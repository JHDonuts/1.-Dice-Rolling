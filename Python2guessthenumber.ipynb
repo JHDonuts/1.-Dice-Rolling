{
 "cells": [
  {
   "cell_type": "code",
   "execution_count": 1,
   "metadata": {},
   "outputs": [
    {
     "name": "stdout",
     "output_type": "stream",
     "text": [
      "\n",
      "\t You have  7  chances to guess the integer!\n",
      "\n",
      "The number is bigger\n",
      "The number is smaller\n",
      "The number is smaller\n",
      "The number is bigger\n",
      "The number is bigger\n",
      "The number is smaller\n",
      "The number is smaller\n",
      "\n",
      " The number i 50\n",
      "\t Better luck next time!\n"
     ]
    }
   ],
   "source": [
    "# First need to import the random and math\n",
    "import random\n",
    "import math\n",
    "\n",
    "# User sets the lower and upper limits of the limits\n",
    "lower = int(input(\"Set the lower limit: \"))\n",
    "upper = int(input(\"Set the upper limit\" ))\n",
    "\n",
    "# Need to generate a random number betweent the limits set by the user\n",
    "x = random.randint(lower, upper)\n",
    "print(\"\\n\\t You have \",\n",
    "       round(math.log(upper - lower + 1, 2)),\n",
    "      \" chances to guess the integer!\\n\")\n",
    "\n",
    "# Counting the number of guesses they have made\n",
    "count = 0\n",
    "\n",
    "while count < math.log(upper - lower + 1,2):\n",
    "    count += 1\n",
    "    \n",
    "# Ask user to guess\n",
    "    guess = int(input(\"Guess the number: \"))\n",
    "    \n",
    "# Need the set the condition for the guesses\n",
    "    if x == guess:\n",
    "        print(\"You have guessed the number:\", count, \"try\")\n",
    "# Break is added to stop the loop\n",
    "        break\n",
    "    elif x > guess:\n",
    "        print(\"The number is bigger\")\n",
    "    elif x < guess:\n",
    "        print(\"The number is smaller\")\n",
    "\n",
    "if count >= math.log(upper - lower + 1,2):\n",
    "    print(\"\\n The number is %d\" % x)\n",
    "    print(\"\\t Better luck next time!\")"
   ]
  },
  {
   "cell_type": "code",
   "execution_count": null,
   "metadata": {},
   "outputs": [],
   "source": []
  }
 ],
 "metadata": {
  "kernelspec": {
   "display_name": "Python 3",
   "language": "python",
   "name": "python3"
  },
  "language_info": {
   "codemirror_mode": {
    "name": "ipython",
    "version": 3
   },
   "file_extension": ".py",
   "mimetype": "text/x-python",
   "name": "python",
   "nbconvert_exporter": "python",
   "pygments_lexer": "ipython3",
   "version": "3.10.9 (tags/v3.10.9:1dd9be6, Dec  6 2022, 20:01:21) [MSC v.1934 64 bit (AMD64)]"
  },
  "orig_nbformat": 4,
  "vscode": {
   "interpreter": {
    "hash": "1e39fe5f0cb1ed1da11fe2d6a2f2199c265b9127b62119a1a2a87d77817bd331"
   }
  }
 },
 "nbformat": 4,
 "nbformat_minor": 2
}
