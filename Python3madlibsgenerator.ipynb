{
 "cells": [
  {
   "cell_type": "code",
   "execution_count": 3,
   "metadata": {},
   "outputs": [
    {
     "name": "stdout",
     "output_type": "stream",
     "text": [
      "On a Sunny day everyone including Jake would agree that running to London is a happy way to start a day off.\n"
     ]
    }
   ],
   "source": [
    "# Require user chosen words to make story\n",
    "weather = input(\"Enter a weather:\")\n",
    "name = input(\"Enter a Name:\")\n",
    "place = input(\"Enter a place:\")\n",
    "feeling = input(\"Enter an emotion: \")\n",
    "\n",
    "# Require a premade story for the user to fill out\n",
    "story = \"On a \" + weather + \" day everyone including \" + name + \" would agree that running to \" + place + \" is a \" + feeling + \" way to start a day off.\"\n",
    "\n",
    "\n",
    "print(story)\n",
    "\n",
    "###ways to improve, splice the letter if there is vowel at the front of the word input\n",
    "\n",
    "#psuedocode\n",
    "#1. create list of vowels\n",
    "#2. code to keep only the first value of the input for \"feeling\"\n",
    "#3. code to check whether the spliced letter is in the list \"vowels\"\n",
    "#4. if statement where if the spliced letter IS found in the list, then output \"an\", else, output \"a\""
   ]
  },
  {
   "cell_type": "code",
   "execution_count": null,
   "metadata": {},
   "outputs": [],
   "source": []
  }
 ],
 "metadata": {
  "kernelspec": {
   "display_name": "Python 3",
   "language": "python",
   "name": "python3"
  },
  "language_info": {
   "codemirror_mode": {
    "name": "ipython",
    "version": 3
   },
   "file_extension": ".py",
   "mimetype": "text/x-python",
   "name": "python",
   "nbconvert_exporter": "python",
   "pygments_lexer": "ipython3",
   "version": "3.10.9 (tags/v3.10.9:1dd9be6, Dec  6 2022, 20:01:21) [MSC v.1934 64 bit (AMD64)]"
  },
  "orig_nbformat": 4,
  "vscode": {
   "interpreter": {
    "hash": "1e39fe5f0cb1ed1da11fe2d6a2f2199c265b9127b62119a1a2a87d77817bd331"
   }
  }
 },
 "nbformat": 4,
 "nbformat_minor": 2
}
