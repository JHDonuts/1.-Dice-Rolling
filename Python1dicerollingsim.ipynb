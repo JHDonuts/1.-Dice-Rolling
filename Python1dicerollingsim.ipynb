{
 "cells": [
  {
   "cell_type": "code",
   "execution_count": 1,
   "metadata": {},
   "outputs": [
    {
     "name": "stdout",
     "output_type": "stream",
     "text": [
      "Number on the die is:\n",
      "5\n",
      "Number on the die is:\n",
      "5\n",
      "Number on the die is:\n",
      "2\n",
      "Number on the die is:\n",
      "1\n",
      "Number on the die is:\n",
      "3\n",
      "Number on the die is:\n",
      "6\n"
     ]
    }
   ],
   "source": [
    "## require the random generator\n",
    "import random\n",
    "\n",
    "## determine the limits of the die\n",
    "min_value = 1\n",
    "max_value = 6\n",
    "\n",
    "#set flag to determine whether the continue to run or not\n",
    "flag = \"yes\"\n",
    "\n",
    "while flag == \"yes\" or flag == \"Yes\":\n",
    "    print(\"Number on the die is:\")\n",
    "    print(random.randint(min_value,max_value))\n",
    "    flag = input(\"Roll the die again?\")"
   ]
  }
 ],
 "metadata": {
  "kernelspec": {
   "display_name": "Python 3",
   "language": "python",
   "name": "python3"
  },
  "language_info": {
   "codemirror_mode": {
    "name": "ipython",
    "version": 3
   },
   "file_extension": ".py",
   "mimetype": "text/x-python",
   "name": "python",
   "nbconvert_exporter": "python",
   "pygments_lexer": "ipython3",
   "version": "3.10.9 (tags/v3.10.9:1dd9be6, Dec  6 2022, 20:01:21) [MSC v.1934 64 bit (AMD64)]"
  },
  "orig_nbformat": 4,
  "vscode": {
   "interpreter": {
    "hash": "1e39fe5f0cb1ed1da11fe2d6a2f2199c265b9127b62119a1a2a87d77817bd331"
   }
  }
 },
 "nbformat": 4,
 "nbformat_minor": 2
}
